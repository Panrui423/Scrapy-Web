{
 "cells": [
  {
   "cell_type": "code",
   "execution_count": 47,
   "id": "42eda988",
   "metadata": {},
   "outputs": [],
   "source": [
    "import requests\n",
    "import re\n",
    "import json\n",
    "from bs4 import BeautifulSoup\n",
    "import pandas as pd\n",
    "\n",
    "\n",
    "cookies = {\n",
    "    '_UUID_NONLOGIN_': '2bf842c70754ef95f986d7ab4a7aac78',\n",
    "    '_UUID_NONLOGIN_.sig': 'cGLtY6eg0FFT-RRSfmBbNTGE3ms',\n",
    "    'bm_sz': '035A8C066B1E51775304786CD4750E25~YAAQxJTYF5ItOF6CAQAAVf/IXhCOBw7C7Ak4z9DJ2DQhPyFIyppgwDzFLQAVKfBhrN3BqNlCeC8s8boot+2Du0TMFgIpFxodAWTGNBDotd/N6pn4Zxu0R5Hqoqt4MA8AClcZiOmKBFAVoqwLN78lc5s+egmTYli+9eADsVpuyWV7+Iso+1XVfJjxN/SibgCuHVscwEhVwVqyxLjACiwpiKyK+OUiwjkdBUNpWyOeSTN1do8nPF0vQV4Vyi8M+maa0qw1g+831ykFP2PlqyxfXw1gTrCwvFJtadRnRtnZxYO9aXWNzTc=~4272198~3748153',\n",
    "    '_gcl_au': '1.1.535327429.1659447608',\n",
    "    '_gid': 'GA1.2.265180868.1659447608',\n",
    "    'AMP_TOKEN': '%24NOT_FOUND',\n",
    "    '_SID_Tokopedia_': '_JDzce9RvL5bHio5NpwrLKpKY_w9J_TdWuHHOETNvXi8aQBuhdxlHuIk3va6ipT01erqptmZHxvIdtE-Oox9rESylR8ICGELzO5Lz0vc14av3m_ggvtirq8mTTjd0iad',\n",
    "    'DID': 'e6c06cc423419b0cd37101ac4ce7ba1721c539892c7e9fd411eef0b8c1cd6bea7d59302ade3b07fed3bffab6633197fe',\n",
    "    'DID_JS': 'ZTZjMDZjYzQyMzQxOWIwY2QzNzEwMWFjNGNlN2JhMTcyMWM1Mzk4OTJjN2U5ZmQ0MTFlZWYwYjhjMWNkNmJlYTdkNTkzMDJhZGUzYjA3ZmVkM2JmZmFiNjYzMzE5N2Zl47DEQpj8HBSa+/TImW+5JCeuQeRkm5NMpJWZG3hSuFU=',\n",
    "    '_UUID_CAS_': '9f58a9e8-162c-415c-93f7-66137f957a3e',\n",
    "    '__asc': '03bb141f1825ec91d0a2ff527cb',\n",
    "    '__auc': '03bb141f1825ec91d0a2ff527cb',\n",
    "    '_jxx': 'a60975d0-1268-11ed-b9c4-19828b85082a',\n",
    "    '_jxxs': '1659447618-a60975d0-1268-11ed-b9c4-19828b85082a',\n",
    "    '_jx': 'a60975d0-1268-11ed-b9c4-19828b85082a',\n",
    "    '_jxs': '1659447618-a60975d0-1268-11ed-b9c4-19828b85082a',\n",
    "    'l': '1',\n",
    "    'TOPATK': 'tMot_lFwR8OK4sKKxhhoTw',\n",
    "    'tuid': '214782394',\n",
    "    'uide': 'Fl9i4IB7ESiV39mCwIIbjS9DiavF06DWunUXKwX66Q1Z56vR8Q==',\n",
    "    'uidh': 'GDaZT+QXRk5JLdXmPHCiSIa3QcyXTw7kU+GUmrfSPKw=',\n",
    "    'googtrans': '/auto/zh-CN',\n",
    "    'aus': '1',\n",
    "    '_CASE_': '2d74321f32746c646461627a74371f32746c667a743a343a746c741c373d37242237760623253722747a74351f32746c6761607a743a393831746c74747a743a3722746c74747a74261539746c74747a74211f32746c67646467666561637a74251f32746c67676365666361657a7425022f2633746c74643e747a74213e25746c740d2d0a74213724333e39232533093f320a746c67646467666561637a0a74253324203f353309222f26330a746c0a74643e0a747a0a740909222f263338373b330a746c0a74013724333e39232533250a742b7a2d0a74213724333e39232533093f320a746c667a0a74253324203f353309222f26330a746c0a7467633b0a747a0a740909222f263338373b330a746c0a74013724333e39232533250a742b0b742b',\n",
    "    'NR_SID': 'NRl6c8b18wdk7s9k',\n",
    "    'ak_bmsc': '723C88E7F135D30CA3849786AC273C05~000000000000000000000000000000~YAAQypTYF61ugDSCAQAAlGHSXhDqDxLlQmp9yleDHrtYkPpUFcOgkiqZSzjQvBZNgRgIvwqlEbAKxd+GOlMqkxYt1RY/Nl9DSDOzGJH0ibhUTejKksW9eE4uNC8zZCjllpOt3f7q0vQLxX2f3611PmLwcURg5/ru6q3c6wcpahjS4ZJ3wTOZKFT/DFZUtCUa2I61Ilb+8H7r0lx8AXtou/L3hXwmKOL1f0fTBdClKRGB+9erM5v2AnlNGYJSr+BzdFt6ra8Rb9MfH72iYKFZ7Zcej9UThV/DA9XqSyOQYCz1AFRLw3Eik2qgdVm2yP2k+nhMNV+5SOcbt2xG8sfmctM+ZLfr/IDXufg7ePhJ1I9710BUZtMdOe/NYcKmTll/ceK6FgM7gjFs+lrc+Nc6dU2naiNTPCiL5490CGCQaZxiYPswSe+Oxd7H+yYIrP/GquTiWOrQMt39nuJGPCrjZx2srIjqc/aQa/+9wDCik67A+YhVTenXqVgtWX3WDlBUw8ZSnWT+rS9hIUHbsns=',\n",
    "    '_abck': '5243A50B90A436F19FDE400B8987E591~0~YAAQypTYFyd/gDSCAQAAYMXSXgjCTGd6Hotrz+VeCsNxDKV8zzep2oDD2BluD8EQL2dO338+u7VsSg1i+OFqND7CbFlz2FTIOxFKWfP/idm9FllWa1AJOK2UrzD5BW2DzBsem/I2cMWke6okn8G0rB9be7qmy7fN8fZDC4TOpPfyjesWG6e5R/E4qIawFAYBCRuUaXVbS0Vfs4kcgXbhtRbl6sBfG457+jwknp+vhnA7Sw0DhC4iLV28CukCdzL2B0ANB/3n5g3XfsuqCwQKyN7NV8AWauhstn2iE6pYwr3G2ZPPz5iVlF01rT+mWdMn0PQcviaW0yL6SrxzQ7TSlok8FMose6R1+hyFBY69EaNJ4y6gwPyUnzsLYvpE9mNzqqK0a3nQhMirpj7VTnV26jEeJSqzrZO+/Ie3~-1~-1~-1',\n",
    "    '_ga': 'GA1.2.850008587.1659447608',\n",
    "    'bm_sv': '9CC3E88905FC9F4C7821C8DB2ED8AD85~YAAQ0pTYFwxoNzKCAQAAzP7UXhAiDMfnBHyT5KfAJhqSZ3OMiHulafthZbn6//EIzP2wiE5eB5XvFg2iUUFryPblaOqXnXWCVXDJsPAb1OWaD2+JrKrU5io+ppHl0t1QDci7TkFi6Cc/fanMQajsHNw53CYn3qXIKZ4xK8+N4iJ1dAwr6n3/gbZgymi8WguP193/G2DmIPsclfopyTH2R+54I94gbRvA6f2qLEMA7VNuTrKyrkkciq1KU702QCn5AKaFyw==~1',\n",
    "    '_gat_UA-9801603-1': '1',\n",
    "    '_ga_70947XW48P': 'GS1.1.1659447607.1.1.1659448505.60',\n",
    "    '_dc_gtm_UA-126956641-6': '1',\n",
    "}\n"
   ]
  },
  {
   "cell_type": "code",
   "execution_count": 48,
   "id": "5096a2e1",
   "metadata": {},
   "outputs": [],
   "source": [
    "\n",
    "headers = {\n",
    "    'authority': 'gql.tokopedia.com',\n",
    "    'accept': '*/*',\n",
    "    'accept-language': 'en-US,en;q=0.9,zh-TW;q=0.8,zh-CN;q=0.7,zh;q=0.6',\n",
    "    # Already added when you pass json=\n",
    "    # 'content-type': 'application/json',\n",
    "    # Requests sorts cookies= alphabetically\n",
    "    # 'cookie': '_UUID_NONLOGIN_=2bf842c70754ef95f986d7ab4a7aac78; _UUID_NONLOGIN_.sig=cGLtY6eg0FFT-RRSfmBbNTGE3ms; bm_sz=035A8C066B1E51775304786CD4750E25~YAAQxJTYF5ItOF6CAQAAVf/IXhCOBw7C7Ak4z9DJ2DQhPyFIyppgwDzFLQAVKfBhrN3BqNlCeC8s8boot+2Du0TMFgIpFxodAWTGNBDotd/N6pn4Zxu0R5Hqoqt4MA8AClcZiOmKBFAVoqwLN78lc5s+egmTYli+9eADsVpuyWV7+Iso+1XVfJjxN/SibgCuHVscwEhVwVqyxLjACiwpiKyK+OUiwjkdBUNpWyOeSTN1do8nPF0vQV4Vyi8M+maa0qw1g+831ykFP2PlqyxfXw1gTrCwvFJtadRnRtnZxYO9aXWNzTc=~4272198~3748153; _gcl_au=1.1.535327429.1659447608; _gid=GA1.2.265180868.1659447608; AMP_TOKEN=%24NOT_FOUND; _SID_Tokopedia_=_JDzce9RvL5bHio5NpwrLKpKY_w9J_TdWuHHOETNvXi8aQBuhdxlHuIk3va6ipT01erqptmZHxvIdtE-Oox9rESylR8ICGELzO5Lz0vc14av3m_ggvtirq8mTTjd0iad; DID=e6c06cc423419b0cd37101ac4ce7ba1721c539892c7e9fd411eef0b8c1cd6bea7d59302ade3b07fed3bffab6633197fe; DID_JS=ZTZjMDZjYzQyMzQxOWIwY2QzNzEwMWFjNGNlN2JhMTcyMWM1Mzk4OTJjN2U5ZmQ0MTFlZWYwYjhjMWNkNmJlYTdkNTkzMDJhZGUzYjA3ZmVkM2JmZmFiNjYzMzE5N2Zl47DEQpj8HBSa+/TImW+5JCeuQeRkm5NMpJWZG3hSuFU=; _UUID_CAS_=9f58a9e8-162c-415c-93f7-66137f957a3e; __asc=03bb141f1825ec91d0a2ff527cb; __auc=03bb141f1825ec91d0a2ff527cb; _jxx=a60975d0-1268-11ed-b9c4-19828b85082a; _jxxs=1659447618-a60975d0-1268-11ed-b9c4-19828b85082a; _jx=a60975d0-1268-11ed-b9c4-19828b85082a; _jxs=1659447618-a60975d0-1268-11ed-b9c4-19828b85082a; l=1; TOPATK=tMot_lFwR8OK4sKKxhhoTw; tuid=214782394; uide=Fl9i4IB7ESiV39mCwIIbjS9DiavF06DWunUXKwX66Q1Z56vR8Q==; uidh=GDaZT+QXRk5JLdXmPHCiSIa3QcyXTw7kU+GUmrfSPKw=; googtrans=/auto/zh-CN; aus=1; _CASE_=2d74321f32746c646461627a74371f32746c667a743a343a746c741c373d37242237760623253722747a74351f32746c6761607a743a393831746c74747a743a3722746c74747a74261539746c74747a74211f32746c67646467666561637a74251f32746c67676365666361657a7425022f2633746c74643e747a74213e25746c740d2d0a74213724333e39232533093f320a746c67646467666561637a0a74253324203f353309222f26330a746c0a74643e0a747a0a740909222f263338373b330a746c0a74013724333e39232533250a742b7a2d0a74213724333e39232533093f320a746c667a0a74253324203f353309222f26330a746c0a7467633b0a747a0a740909222f263338373b330a746c0a74013724333e39232533250a742b0b742b; NR_SID=NRl6c8b18wdk7s9k; ak_bmsc=723C88E7F135D30CA3849786AC273C05~000000000000000000000000000000~YAAQypTYF61ugDSCAQAAlGHSXhDqDxLlQmp9yleDHrtYkPpUFcOgkiqZSzjQvBZNgRgIvwqlEbAKxd+GOlMqkxYt1RY/Nl9DSDOzGJH0ibhUTejKksW9eE4uNC8zZCjllpOt3f7q0vQLxX2f3611PmLwcURg5/ru6q3c6wcpahjS4ZJ3wTOZKFT/DFZUtCUa2I61Ilb+8H7r0lx8AXtou/L3hXwmKOL1f0fTBdClKRGB+9erM5v2AnlNGYJSr+BzdFt6ra8Rb9MfH72iYKFZ7Zcej9UThV/DA9XqSyOQYCz1AFRLw3Eik2qgdVm2yP2k+nhMNV+5SOcbt2xG8sfmctM+ZLfr/IDXufg7ePhJ1I9710BUZtMdOe/NYcKmTll/ceK6FgM7gjFs+lrc+Nc6dU2naiNTPCiL5490CGCQaZxiYPswSe+Oxd7H+yYIrP/GquTiWOrQMt39nuJGPCrjZx2srIjqc/aQa/+9wDCik67A+YhVTenXqVgtWX3WDlBUw8ZSnWT+rS9hIUHbsns=; _abck=5243A50B90A436F19FDE400B8987E591~0~YAAQypTYFyd/gDSCAQAAYMXSXgjCTGd6Hotrz+VeCsNxDKV8zzep2oDD2BluD8EQL2dO338+u7VsSg1i+OFqND7CbFlz2FTIOxFKWfP/idm9FllWa1AJOK2UrzD5BW2DzBsem/I2cMWke6okn8G0rB9be7qmy7fN8fZDC4TOpPfyjesWG6e5R/E4qIawFAYBCRuUaXVbS0Vfs4kcgXbhtRbl6sBfG457+jwknp+vhnA7Sw0DhC4iLV28CukCdzL2B0ANB/3n5g3XfsuqCwQKyN7NV8AWauhstn2iE6pYwr3G2ZPPz5iVlF01rT+mWdMn0PQcviaW0yL6SrxzQ7TSlok8FMose6R1+hyFBY69EaNJ4y6gwPyUnzsLYvpE9mNzqqK0a3nQhMirpj7VTnV26jEeJSqzrZO+/Ie3~-1~-1~-1; _ga=GA1.2.850008587.1659447608; bm_sv=9CC3E88905FC9F4C7821C8DB2ED8AD85~YAAQ0pTYFwxoNzKCAQAAzP7UXhAiDMfnBHyT5KfAJhqSZ3OMiHulafthZbn6//EIzP2wiE5eB5XvFg2iUUFryPblaOqXnXWCVXDJsPAb1OWaD2+JrKrU5io+ppHl0t1QDci7TkFi6Cc/fanMQajsHNw53CYn3qXIKZ4xK8+N4iJ1dAwr6n3/gbZgymi8WguP193/G2DmIPsclfopyTH2R+54I94gbRvA6f2qLEMA7VNuTrKyrkkciq1KU702QCn5AKaFyw==~1; _gat_UA-9801603-1=1; _ga_70947XW48P=GS1.1.1659447607.1.1.1659448505.60; _dc_gtm_UA-126956641-6=1',\n",
    "    'iris_session_id': 'd3d3LnRva29wZWRpYS5jb20=.97aac7a766a814db0833e806f3936314.1659447609148',\n",
    "    'origin': 'https://www.tokopedia.com',\n",
    "    'referer': 'https://www.tokopedia.com/p/makanan-minuman/sayur?page=1',\n",
    "    'sec-ch-ua': '\" Not A;Brand\";v=\"99\", \"Chromium\";v=\"102\", \"Google Chrome\";v=\"102\"',\n",
    "    'sec-ch-ua-mobile': '?1',\n",
    "    'sec-ch-ua-platform': '\"Android\"',\n",
    "    'sec-fetch-dest': 'empty',\n",
    "    'sec-fetch-mode': 'cors',\n",
    "    'sec-fetch-site': 'same-site',\n",
    "    'tkpd-userid': '214782394',\n",
    "    'user-agent': 'Mozilla/5.0 (Linux; Android 6.0; Nexus 5 Build/MRA58N) AppleWebKit/537.36 (KHTML, like Gecko) Chrome/102.0.5005.61 Mobile Safari/537.36',\n",
    "    'x-device': 'desktop-0.0',\n",
    "    'x-source': 'tokopedia-lite',\n",
    "    'x-tkpd-lite-service': 'zeus',\n",
    "    'x-version': '81d205c',\n",
    "}\n"
   ]
  },
  {
   "cell_type": "code",
   "execution_count": 49,
   "id": "ca9d335b",
   "metadata": {},
   "outputs": [],
   "source": [
    "\n",
    "json_data = [\n",
    "    {\n",
    "        'operationName': 'SearchProductQuery',\n",
    "        'variables': {\n",
    "            'params': 'page=1&ob=&identifier=makanan-minuman_sayur&sc=5223&user_id=214782394&rows=60&start=1&source=directory&device=desktop&page=1&related=true&st=product&safe_search=false',\n",
    "            'adParams': 'page=1&page=1&dep_id=5223&ob=&ep=product&item=15&src=directory&device=desktop&user_id=214782394&minimum_item=15&start=1&no_autofill_range=5-14',\n",
    "        },\n",
    "        'query': 'query SearchProductQuery($params: String, $adParams: String) {\\n  CategoryProducts: searchProduct(params: $params) {\\n    count\\n    data: products {\\n      id\\n      url\\n      imageUrl: image_url\\n      imageUrlLarge: image_url_700\\n      catId: category_id\\n      gaKey: ga_key\\n      countReview: count_review\\n      discountPercentage: discount_percentage\\n      preorder: is_preorder\\n      name\\n      price\\n      original_price\\n      rating\\n      wishlist\\n      labels {\\n        title\\n        color\\n        __typename\\n      }\\n      badges {\\n        imageUrl: image_url\\n        show\\n        __typename\\n      }\\n      shop {\\n        id\\n        url\\n        name\\n        goldmerchant: is_power_badge\\n        official: is_official\\n        reputation\\n        clover\\n        location\\n        __typename\\n      }\\n      labelGroups: label_groups {\\n        position\\n        title\\n        type\\n        __typename\\n      }\\n      __typename\\n    }\\n    __typename\\n  }\\n  displayAdsV3(displayParams: $adParams) {\\n    data {\\n      id\\n      ad_ref_key\\n      redirect\\n      sticker_id\\n      sticker_image\\n      productWishListUrl: product_wishlist_url\\n      clickTrackUrl: product_click_url\\n      shop_click_url\\n      product {\\n        id\\n        name\\n        wishlist\\n        image {\\n          imageUrl: s_ecs\\n          trackerImageUrl: s_url\\n          __typename\\n        }\\n        url: uri\\n        relative_uri\\n        price: price_format\\n        campaign {\\n          original_price\\n          discountPercentage: discount_percentage\\n          __typename\\n        }\\n        wholeSalePrice: wholesale_price {\\n          quantityMin: quantity_min_format\\n          quantityMax: quantity_max_format\\n          price: price_format\\n          __typename\\n        }\\n        count_talk_format\\n        countReview: count_review_format\\n        category {\\n          id\\n          __typename\\n        }\\n        preorder: product_preorder\\n        product_wholesale\\n        free_return\\n        isNewProduct: product_new_label\\n        cashback: product_cashback_rate\\n        rating: product_rating\\n        top_label\\n        bottomLabel: bottom_label\\n        __typename\\n      }\\n      shop {\\n        image_product {\\n          image_url\\n          __typename\\n        }\\n        id\\n        name\\n        domain\\n        location\\n        city\\n        tagline\\n        goldmerchant: gold_shop\\n        gold_shop_badge\\n        official: shop_is_official\\n        lucky_shop\\n        uri\\n        owner_id\\n        is_owner\\n        badges {\\n          title\\n          image_url\\n          show\\n          __typename\\n        }\\n        __typename\\n      }\\n      applinks\\n      __typename\\n    }\\n    template {\\n      isAd: is_ad\\n      __typename\\n    }\\n    __typename\\n  }\\n}\\n',\n",
    "    },\n",
    "]\n",
    "\n",
    "\n",
    "# json_data = [\n",
    "#     {\n",
    "#         'operationName': 'SearchProductQuery',\n",
    "#         'variables': {\n",
    "#             'params': 'page=3&ob=&identifier=makanan-minuman_sayur&sc=5223&user_id=214782394&rows=60&start=121&source=directory&device=desktop&page=3&related=true&st=product&safe_search=false',\n",
    "#             'adParams': 'page=3&page=3&dep_id=5223&ob=&ep=product&item=15&src=directory&device=desktop&user_id=214782394&minimum_item=15&start=121&no_autofill_range=5-14',\n",
    "#         },\n",
    "#         'query': 'query SearchProductQuery($params: String, $adParams: String) {\\n  CategoryProducts: searchProduct(params: $params) {\\n    count\\n    data: products {\\n      id\\n      url\\n      imageUrl: image_url\\n      imageUrlLarge: image_url_700\\n      catId: category_id\\n      gaKey: ga_key\\n      countReview: count_review\\n      discountPercentage: discount_percentage\\n      preorder: is_preorder\\n      name\\n      price\\n      original_price\\n      rating\\n      wishlist\\n      labels {\\n        title\\n        color\\n        __typename\\n      }\\n      badges {\\n        imageUrl: image_url\\n        show\\n        __typename\\n      }\\n      shop {\\n        id\\n        url\\n        name\\n        goldmerchant: is_power_badge\\n        official: is_official\\n        reputation\\n        clover\\n        location\\n        __typename\\n      }\\n      labelGroups: label_groups {\\n        position\\n        title\\n        type\\n        __typename\\n      }\\n      __typename\\n    }\\n    __typename\\n  }\\n  displayAdsV3(displayParams: $adParams) {\\n    data {\\n      id\\n      ad_ref_key\\n      redirect\\n      sticker_id\\n      sticker_image\\n      productWishListUrl: product_wishlist_url\\n      clickTrackUrl: product_click_url\\n      shop_click_url\\n      product {\\n        id\\n        name\\n        wishlist\\n        image {\\n          imageUrl: s_ecs\\n          trackerImageUrl: s_url\\n          __typename\\n        }\\n        url: uri\\n        relative_uri\\n        price: price_format\\n        campaign {\\n          original_price\\n          discountPercentage: discount_percentage\\n          __typename\\n        }\\n        wholeSalePrice: wholesale_price {\\n          quantityMin: quantity_min_format\\n          quantityMax: quantity_max_format\\n          price: price_format\\n          __typename\\n        }\\n        count_talk_format\\n        countReview: count_review_format\\n        category {\\n          id\\n          __typename\\n        }\\n        preorder: product_preorder\\n        product_wholesale\\n        free_return\\n        isNewProduct: product_new_label\\n        cashback: product_cashback_rate\\n        rating: product_rating\\n        top_label\\n        bottomLabel: bottom_label\\n        __typename\\n      }\\n      shop {\\n        image_product {\\n          image_url\\n          __typename\\n        }\\n        id\\n        name\\n        domain\\n        location\\n        city\\n        tagline\\n        goldmerchant: gold_shop\\n        gold_shop_badge\\n        official: shop_is_official\\n        lucky_shop\\n        uri\\n        owner_id\\n        is_owner\\n        badges {\\n          title\\n          image_url\\n          show\\n          __typename\\n        }\\n        __typename\\n      }\\n      applinks\\n      __typename\\n    }\\n    template {\\n      isAd: is_ad\\n      __typename\\n    }\\n    __typename\\n  }\\n}\\n',\n",
    "#     },\n",
    "# ]"
   ]
  },
  {
   "cell_type": "code",
   "execution_count": 4,
   "id": "24017ba2",
   "metadata": {},
   "outputs": [
    {
     "data": {
      "text/plain": [
       "200"
      ]
     },
     "execution_count": 4,
     "metadata": {},
     "output_type": "execute_result"
    }
   ],
   "source": [
    "response = requests.post('https://gql.tokopedia.com/graphql/SearchProductQuery', cookies=cookies, headers=headers, json=json_data)\n",
    "response.status_code"
   ]
  },
  {
   "cell_type": "code",
   "execution_count": 26,
   "id": "0c44994c",
   "metadata": {},
   "outputs": [],
   "source": [
    "bs = BeautifulSoup(response.text, 'html.parser')\n",
    "data = json.loads(bs.text)"
   ]
  },
  {
   "cell_type": "code",
   "execution_count": 29,
   "id": "41aa1ea3",
   "metadata": {},
   "outputs": [
    {
     "data": {
      "text/plain": [
       "60"
      ]
     },
     "execution_count": 29,
     "metadata": {},
     "output_type": "execute_result"
    }
   ],
   "source": [
    "len(data[0]['data']['CategoryProducts']['data'])"
   ]
  },
  {
   "cell_type": "code",
   "execution_count": 45,
   "id": "45dcc243",
   "metadata": {},
   "outputs": [
    {
     "data": {
      "text/plain": [
       "{'id': 1688511159,\n",
       " 'url': 'https://www.tokopedia.com/japfabestjakarta/edamame-kacang-kedelai-jepang-minaku-500gr?extParam=ivf%3Dfalse%26whid%3D95841',\n",
       " 'imageUrl': 'https://images.tokopedia.net/img/cache/200-square/VqbcmM/2022/2/20/171d4ba4-f2c1-4587-8a16-79c60fc6e40d.png',\n",
       " 'imageUrlLarge': 'https://images.tokopedia.net/img/cache/700/VqbcmM/2022/2/20/171d4ba4-f2c1-4587-8a16-79c60fc6e40d.png',\n",
       " 'catId': 35,\n",
       " 'gaKey': '/category/makanan-minuman/sayur/japfabestjakarta/edamame-kacang-kedelai-jepang-minaku-500gr',\n",
       " 'countReview': 858,\n",
       " 'discountPercentage': 20,\n",
       " 'preorder': False,\n",
       " 'name': 'Edamame / Kacang Kedelai Jepang Minaku 500gr',\n",
       " 'price': 'Rp19.900',\n",
       " 'original_price': 'Rp25.000',\n",
       " 'rating': 5,\n",
       " 'wishlist': False,\n",
       " 'labels': [{'title': 'Gratis Ongkir',\n",
       "   'color': '#42b549',\n",
       "   '__typename': 'AceSearchLabel'}],\n",
       " 'badges': [{'imageUrl': 'https://images.tokopedia.net/img/official_store_badge.png',\n",
       "   'show': True,\n",
       "   '__typename': 'AceSearchBadge'}],\n",
       " 'shop': {'id': 3746800,\n",
       "  'url': 'https://www.tokopedia.com/japfabestjakarta',\n",
       "  'name': 'Japfa Best Jakarta',\n",
       "  'goldmerchant': True,\n",
       "  'official': True,\n",
       "  'reputation': 'https://inbox.tokopedia.com/reputation/v1/badge/shop/3746800',\n",
       "  'clover': 'https://clover.tokopedia.com/badges/merchant/v1?shop_id=3746800',\n",
       "  'location': 'Jakarta Selatan',\n",
       "  '__typename': 'AceShop'},\n",
       " 'labelGroups': [{'position': 'promo',\n",
       "   'title': 'Gratis Ongkir',\n",
       "   'type': 'lightGreen',\n",
       "   '__typename': 'AceSearchLabelUnify'},\n",
       "  {'position': 'best_seller',\n",
       "   'title': 'Terlaris',\n",
       "   'type': '#e1aa1d',\n",
       "   '__typename': 'AceSearchLabelUnify'},\n",
       "  {'position': 'integrity',\n",
       "   'title': 'Terjual 3 rb+',\n",
       "   'type': 'textDarkGrey',\n",
       "   '__typename': 'AceSearchLabelUnify'},\n",
       "  {'position': 'campaign',\n",
       "   'title': 'Selalu OS',\n",
       "   'type': '',\n",
       "   '__typename': 'AceSearchLabelUnify'}],\n",
       " '__typename': 'AceSearchProduct'}"
      ]
     },
     "execution_count": 45,
     "metadata": {},
     "output_type": "execute_result"
    }
   ],
   "source": [
    "data[0]['data']['CategoryProducts']['data'][0]"
   ]
  },
  {
   "cell_type": "code",
   "execution_count": 33,
   "id": "fe963347",
   "metadata": {},
   "outputs": [
    {
     "data": {
      "text/plain": [
       "{'params': 'page=1&ob=&identifier=makanan-minuman_sayur&sc=5223&user_id=214782394&rows=60&start=1&source=directory&device=desktop&page=1&related=true&st=product&safe_search=false',\n",
       " 'adParams': 'page=1&page=1&dep_id=5223&ob=&ep=product&item=15&src=directory&device=desktop&user_id=214782394&minimum_item=15&start=1&no_autofill_range=5-14'}"
      ]
     },
     "execution_count": 33,
     "metadata": {},
     "output_type": "execute_result"
    }
   ],
   "source": [
    "next_params = json_data\n",
    "next_params[0]['variables']"
   ]
  },
  {
   "cell_type": "code",
   "execution_count": 41,
   "id": "55c00579",
   "metadata": {},
   "outputs": [
    {
     "data": {
      "text/plain": [
       "\"page=2ob=&identifier=makanan-minuman_sayur&sc=5223&user_id=214782394&rows=60&start=61&source=directory&device=desktop&page=2&related=true&st=product&safe_search=false'\""
      ]
     },
     "execution_count": 41,
     "metadata": {},
     "output_type": "execute_result"
    }
   ],
   "source": [
    "next_params[0]['variables']['params'] = 'page=' + str(2) + 'ob=&identifier=makanan-minuman_sayur&sc=5223&user_id=214782394&rows=60&start=' + str(1+60*1) + '&source=directory&device=desktop&page=' + str(2) + '&related=true&st=product&safe_search=false\\''\n",
    "next_params[0]['variables']['params']       "
   ]
  },
  {
   "cell_type": "code",
   "execution_count": 43,
   "id": "a7e6fe95",
   "metadata": {},
   "outputs": [
    {
     "data": {
      "text/plain": [
       "'page=2page=2&dep_id=5223&ob=&ep=product&item=15&src=directory&device=desktop&user_id=214782394&minimum_item=15&start=61&no_autofill_range=5-14'"
      ]
     },
     "execution_count": 43,
     "metadata": {},
     "output_type": "execute_result"
    }
   ],
   "source": [
    "next_params[0]['variables']['adParams'] = 'page=' + str(2) + 'page=' + str(2) + '&dep_id=5223&ob=&ep=product&item=15&src=directory&device=desktop&user_id=214782394&minimum_item=15&start=' + str(1+60*1) + '&no_autofill_range=5-14'\n",
    "next_params[0]['variables']['adParams'] "
   ]
  },
  {
   "cell_type": "code",
   "execution_count": 51,
   "id": "5622a310",
   "metadata": {},
   "outputs": [
    {
     "ename": "ValueError",
     "evalue": "Length mismatch: Expected axis has 0 elements, new values have 6 elements",
     "output_type": "error",
     "traceback": [
      "\u001b[0;31m---------------------------------------------------------------------------\u001b[0m",
      "\u001b[0;31mValueError\u001b[0m                                Traceback (most recent call last)",
      "\u001b[0;32m/var/folders/kq/h0gtgyt15876hcqgj3_277v80000gn/T/ipykernel_47562/721326906.py\u001b[0m in \u001b[0;36m<module>\u001b[0;34m\u001b[0m\n\u001b[1;32m     36\u001b[0m     \u001b[0mframes\u001b[0m \u001b[0;34m=\u001b[0m \u001b[0;34m[\u001b[0m\u001b[0mgood_id\u001b[0m\u001b[0;34m,\u001b[0m \u001b[0mname\u001b[0m\u001b[0;34m,\u001b[0m \u001b[0mprice\u001b[0m\u001b[0;34m,\u001b[0m \u001b[0mimageUrl\u001b[0m\u001b[0;34m,\u001b[0m \u001b[0mcountReview\u001b[0m\u001b[0;34m,\u001b[0m \u001b[0mlocation\u001b[0m\u001b[0;34m]\u001b[0m\u001b[0;34m\u001b[0m\u001b[0;34m\u001b[0m\u001b[0m\n\u001b[1;32m     37\u001b[0m     \u001b[0mdf\u001b[0m \u001b[0;34m=\u001b[0m \u001b[0mpd\u001b[0m\u001b[0;34m.\u001b[0m\u001b[0mconcat\u001b[0m\u001b[0;34m(\u001b[0m\u001b[0mframes\u001b[0m\u001b[0;34m,\u001b[0m\u001b[0maxis\u001b[0m \u001b[0;34m=\u001b[0m \u001b[0;36m1\u001b[0m\u001b[0;34m)\u001b[0m\u001b[0;34m\u001b[0m\u001b[0;34m\u001b[0m\u001b[0m\n\u001b[0;32m---> 38\u001b[0;31m     \u001b[0mdf\u001b[0m\u001b[0;34m.\u001b[0m\u001b[0mcolumns\u001b[0m \u001b[0;34m=\u001b[0m \u001b[0;34m[\u001b[0m\u001b[0;34m'good_id'\u001b[0m\u001b[0;34m,\u001b[0m \u001b[0;34m'name'\u001b[0m\u001b[0;34m,\u001b[0m \u001b[0;34m'price'\u001b[0m\u001b[0;34m,\u001b[0m \u001b[0;34m'imageUrl'\u001b[0m\u001b[0;34m,\u001b[0m \u001b[0;34m'countReview'\u001b[0m\u001b[0;34m,\u001b[0m \u001b[0;34m'location'\u001b[0m\u001b[0;34m]\u001b[0m\u001b[0;34m\u001b[0m\u001b[0;34m\u001b[0m\u001b[0m\n\u001b[0m\u001b[1;32m     39\u001b[0m     \u001b[0mdf\u001b[0m\u001b[0;34m.\u001b[0m\u001b[0mindex\u001b[0m \u001b[0;34m=\u001b[0m \u001b[0mlist\u001b[0m\u001b[0;34m(\u001b[0m\u001b[0mrange\u001b[0m\u001b[0;34m(\u001b[0m\u001b[0;36m0\u001b[0m \u001b[0;34m+\u001b[0m \u001b[0mj\u001b[0m\u001b[0;34m*\u001b[0m\u001b[0;36m60\u001b[0m\u001b[0;34m,\u001b[0m \u001b[0;36m60\u001b[0m\u001b[0;34m+\u001b[0m\u001b[0mj\u001b[0m\u001b[0;34m*\u001b[0m\u001b[0;36m60\u001b[0m\u001b[0;34m,\u001b[0m \u001b[0;36m1\u001b[0m\u001b[0;34m)\u001b[0m\u001b[0;34m)\u001b[0m\u001b[0;34m\u001b[0m\u001b[0;34m\u001b[0m\u001b[0m\n\u001b[1;32m     40\u001b[0m     \u001b[0mdf_f\u001b[0m \u001b[0;34m=\u001b[0m \u001b[0;34m[\u001b[0m\u001b[0mdf_all\u001b[0m\u001b[0;34m,\u001b[0m\u001b[0mdf\u001b[0m\u001b[0;34m]\u001b[0m\u001b[0;34m\u001b[0m\u001b[0;34m\u001b[0m\u001b[0m\n",
      "\u001b[0;32m~/opt/anaconda3/lib/python3.9/site-packages/pandas/core/generic.py\u001b[0m in \u001b[0;36m__setattr__\u001b[0;34m(self, name, value)\u001b[0m\n\u001b[1;32m   5498\u001b[0m         \u001b[0;32mtry\u001b[0m\u001b[0;34m:\u001b[0m\u001b[0;34m\u001b[0m\u001b[0;34m\u001b[0m\u001b[0m\n\u001b[1;32m   5499\u001b[0m             \u001b[0mobject\u001b[0m\u001b[0;34m.\u001b[0m\u001b[0m__getattribute__\u001b[0m\u001b[0;34m(\u001b[0m\u001b[0mself\u001b[0m\u001b[0;34m,\u001b[0m \u001b[0mname\u001b[0m\u001b[0;34m)\u001b[0m\u001b[0;34m\u001b[0m\u001b[0;34m\u001b[0m\u001b[0m\n\u001b[0;32m-> 5500\u001b[0;31m             \u001b[0;32mreturn\u001b[0m \u001b[0mobject\u001b[0m\u001b[0;34m.\u001b[0m\u001b[0m__setattr__\u001b[0m\u001b[0;34m(\u001b[0m\u001b[0mself\u001b[0m\u001b[0;34m,\u001b[0m \u001b[0mname\u001b[0m\u001b[0;34m,\u001b[0m \u001b[0mvalue\u001b[0m\u001b[0;34m)\u001b[0m\u001b[0;34m\u001b[0m\u001b[0;34m\u001b[0m\u001b[0m\n\u001b[0m\u001b[1;32m   5501\u001b[0m         \u001b[0;32mexcept\u001b[0m \u001b[0mAttributeError\u001b[0m\u001b[0;34m:\u001b[0m\u001b[0;34m\u001b[0m\u001b[0;34m\u001b[0m\u001b[0m\n\u001b[1;32m   5502\u001b[0m             \u001b[0;32mpass\u001b[0m\u001b[0;34m\u001b[0m\u001b[0;34m\u001b[0m\u001b[0m\n",
      "\u001b[0;32m~/opt/anaconda3/lib/python3.9/site-packages/pandas/_libs/properties.pyx\u001b[0m in \u001b[0;36mpandas._libs.properties.AxisProperty.__set__\u001b[0;34m()\u001b[0m\n",
      "\u001b[0;32m~/opt/anaconda3/lib/python3.9/site-packages/pandas/core/generic.py\u001b[0m in \u001b[0;36m_set_axis\u001b[0;34m(self, axis, labels)\u001b[0m\n\u001b[1;32m    764\u001b[0m     \u001b[0;32mdef\u001b[0m \u001b[0m_set_axis\u001b[0m\u001b[0;34m(\u001b[0m\u001b[0mself\u001b[0m\u001b[0;34m,\u001b[0m \u001b[0maxis\u001b[0m\u001b[0;34m:\u001b[0m \u001b[0mint\u001b[0m\u001b[0;34m,\u001b[0m \u001b[0mlabels\u001b[0m\u001b[0;34m:\u001b[0m \u001b[0mIndex\u001b[0m\u001b[0;34m)\u001b[0m \u001b[0;34m->\u001b[0m \u001b[0;32mNone\u001b[0m\u001b[0;34m:\u001b[0m\u001b[0;34m\u001b[0m\u001b[0;34m\u001b[0m\u001b[0m\n\u001b[1;32m    765\u001b[0m         \u001b[0mlabels\u001b[0m \u001b[0;34m=\u001b[0m \u001b[0mensure_index\u001b[0m\u001b[0;34m(\u001b[0m\u001b[0mlabels\u001b[0m\u001b[0;34m)\u001b[0m\u001b[0;34m\u001b[0m\u001b[0;34m\u001b[0m\u001b[0m\n\u001b[0;32m--> 766\u001b[0;31m         \u001b[0mself\u001b[0m\u001b[0;34m.\u001b[0m\u001b[0m_mgr\u001b[0m\u001b[0;34m.\u001b[0m\u001b[0mset_axis\u001b[0m\u001b[0;34m(\u001b[0m\u001b[0maxis\u001b[0m\u001b[0;34m,\u001b[0m \u001b[0mlabels\u001b[0m\u001b[0;34m)\u001b[0m\u001b[0;34m\u001b[0m\u001b[0;34m\u001b[0m\u001b[0m\n\u001b[0m\u001b[1;32m    767\u001b[0m         \u001b[0mself\u001b[0m\u001b[0;34m.\u001b[0m\u001b[0m_clear_item_cache\u001b[0m\u001b[0;34m(\u001b[0m\u001b[0;34m)\u001b[0m\u001b[0;34m\u001b[0m\u001b[0;34m\u001b[0m\u001b[0m\n\u001b[1;32m    768\u001b[0m \u001b[0;34m\u001b[0m\u001b[0m\n",
      "\u001b[0;32m~/opt/anaconda3/lib/python3.9/site-packages/pandas/core/internals/managers.py\u001b[0m in \u001b[0;36mset_axis\u001b[0;34m(self, axis, new_labels)\u001b[0m\n\u001b[1;32m    214\u001b[0m     \u001b[0;32mdef\u001b[0m \u001b[0mset_axis\u001b[0m\u001b[0;34m(\u001b[0m\u001b[0mself\u001b[0m\u001b[0;34m,\u001b[0m \u001b[0maxis\u001b[0m\u001b[0;34m:\u001b[0m \u001b[0mint\u001b[0m\u001b[0;34m,\u001b[0m \u001b[0mnew_labels\u001b[0m\u001b[0;34m:\u001b[0m \u001b[0mIndex\u001b[0m\u001b[0;34m)\u001b[0m \u001b[0;34m->\u001b[0m \u001b[0;32mNone\u001b[0m\u001b[0;34m:\u001b[0m\u001b[0;34m\u001b[0m\u001b[0;34m\u001b[0m\u001b[0m\n\u001b[1;32m    215\u001b[0m         \u001b[0;31m# Caller is responsible for ensuring we have an Index object.\u001b[0m\u001b[0;34m\u001b[0m\u001b[0;34m\u001b[0m\u001b[0m\n\u001b[0;32m--> 216\u001b[0;31m         \u001b[0mself\u001b[0m\u001b[0;34m.\u001b[0m\u001b[0m_validate_set_axis\u001b[0m\u001b[0;34m(\u001b[0m\u001b[0maxis\u001b[0m\u001b[0;34m,\u001b[0m \u001b[0mnew_labels\u001b[0m\u001b[0;34m)\u001b[0m\u001b[0;34m\u001b[0m\u001b[0;34m\u001b[0m\u001b[0m\n\u001b[0m\u001b[1;32m    217\u001b[0m         \u001b[0mself\u001b[0m\u001b[0;34m.\u001b[0m\u001b[0maxes\u001b[0m\u001b[0;34m[\u001b[0m\u001b[0maxis\u001b[0m\u001b[0;34m]\u001b[0m \u001b[0;34m=\u001b[0m \u001b[0mnew_labels\u001b[0m\u001b[0;34m\u001b[0m\u001b[0;34m\u001b[0m\u001b[0m\n\u001b[1;32m    218\u001b[0m \u001b[0;34m\u001b[0m\u001b[0m\n",
      "\u001b[0;32m~/opt/anaconda3/lib/python3.9/site-packages/pandas/core/internals/base.py\u001b[0m in \u001b[0;36m_validate_set_axis\u001b[0;34m(self, axis, new_labels)\u001b[0m\n\u001b[1;32m     55\u001b[0m \u001b[0;34m\u001b[0m\u001b[0m\n\u001b[1;32m     56\u001b[0m         \u001b[0;32melif\u001b[0m \u001b[0mnew_len\u001b[0m \u001b[0;34m!=\u001b[0m \u001b[0mold_len\u001b[0m\u001b[0;34m:\u001b[0m\u001b[0;34m\u001b[0m\u001b[0;34m\u001b[0m\u001b[0m\n\u001b[0;32m---> 57\u001b[0;31m             raise ValueError(\n\u001b[0m\u001b[1;32m     58\u001b[0m                 \u001b[0;34mf\"Length mismatch: Expected axis has {old_len} elements, new \"\u001b[0m\u001b[0;34m\u001b[0m\u001b[0;34m\u001b[0m\u001b[0m\n\u001b[1;32m     59\u001b[0m                 \u001b[0;34mf\"values have {new_len} elements\"\u001b[0m\u001b[0;34m\u001b[0m\u001b[0;34m\u001b[0m\u001b[0m\n",
      "\u001b[0;31mValueError\u001b[0m: Length mismatch: Expected axis has 0 elements, new values have 6 elements"
     ]
    }
   ],
   "source": [
    "next_params = json_data\n",
    "# 创建一个空的 DataFrame\n",
    "df_all = pd.DataFrame(columns=['good_id', 'name', 'price', 'imageUrl', 'countReview', 'location'])\n",
    "j=0\n",
    "while next_params:\n",
    "    response = requests.post('https://gql.tokopedia.com/graphql/SearchProductQuery', cookies=cookies, headers=headers, json=next_params)\n",
    "    response.status_code\n",
    "    bs = BeautifulSoup(response.text, 'html.parser')\n",
    "    data = json.loads(bs.text)[0]\n",
    "    if 'data' in data:\n",
    "        length_data = len(data['data']['CategoryProducts']['data'])\n",
    "    else:\n",
    "        break\n",
    "        \n",
    "    good_id = {}\n",
    "    name = {}\n",
    "    price = {}\n",
    "    imageUrl = {}\n",
    "    countReview = {}\n",
    "    location = {}\n",
    "    for i in range(length_data):\n",
    "        good_id[i] = data['data']['CategoryProducts']['data'][i]['id']\n",
    "        name[i] = data['data']['CategoryProducts']['data'][i]['name']\n",
    "        price[i] = data['data']['CategoryProducts']['data'][i]['price']\n",
    "        imageUrl[i] = data['data']['CategoryProducts']['data'][i]['imageUrl']\n",
    "        countReview[i] = data['data']['CategoryProducts']['data'][i]['countReview']\n",
    "        location[i] = data['data']['CategoryProducts']['data'][i]['shop']['location']\n",
    "        \n",
    "    good_id = pd.DataFrame.from_dict(good_id,orient='index')\n",
    "    name = pd.DataFrame.from_dict(name,orient='index')\n",
    "    price = pd.DataFrame.from_dict(price,orient='index')\n",
    "    imageUrl = pd.DataFrame.from_dict(imageUrl,orient='index')\n",
    "    countReview = pd.DataFrame.from_dict(countReview,orient='index')   \n",
    "    location = pd.DataFrame.from_dict(location,orient='index') \n",
    "                       \n",
    "    frames = [good_id, name, price, imageUrl, countReview, location]\n",
    "    df = pd.concat(frames,axis = 1)\n",
    "    df.columns = ['good_id', 'name', 'price', 'imageUrl', 'countReview', 'location']\n",
    "    df.index = list(range(0 + j*60, 60+j*60, 1))\n",
    "    df_f = [df_all,df]\n",
    "    df_all = pd.concat(df_f)\n",
    "    j = j+1\n",
    "    next_params[0]['variables']['params'] = 'page=' + str(j+1) + 'ob=&identifier=makanan-minuman_sayur&sc=5223&user_id=214782394&rows=60&start=' + str(1+60*j) + '&source=directory&device=desktop&page=' + str(j+1) + '&related=true&st=product&safe_search=false\\''\n",
    "    next_params[0]['variables']['adParams'] = 'page=' + str(j+1) + 'page=' + str(j+1) + '&dep_id=5223&ob=&ep=product&item=15&src=directory&device=desktop&user_id=214782394&minimum_item=15&start=' + str(1+60*j) + '&no_autofill_range=5-14'\n",
    "    \n",
    "\n"
   ]
  },
  {
   "cell_type": "code",
   "execution_count": 52,
   "id": "711f8204",
   "metadata": {},
   "outputs": [
    {
     "data": {
      "text/html": [
       "<div>\n",
       "<style scoped>\n",
       "    .dataframe tbody tr th:only-of-type {\n",
       "        vertical-align: middle;\n",
       "    }\n",
       "\n",
       "    .dataframe tbody tr th {\n",
       "        vertical-align: top;\n",
       "    }\n",
       "\n",
       "    .dataframe thead th {\n",
       "        text-align: right;\n",
       "    }\n",
       "</style>\n",
       "<table border=\"1\" class=\"dataframe\">\n",
       "  <thead>\n",
       "    <tr style=\"text-align: right;\">\n",
       "      <th></th>\n",
       "      <th>good_id</th>\n",
       "      <th>name</th>\n",
       "      <th>price</th>\n",
       "      <th>imageUrl</th>\n",
       "      <th>countReview</th>\n",
       "      <th>location</th>\n",
       "    </tr>\n",
       "  </thead>\n",
       "  <tbody>\n",
       "    <tr>\n",
       "      <th>0</th>\n",
       "      <td>1688511159</td>\n",
       "      <td>Edamame / Kacang Kedelai Jepang Minaku 500gr</td>\n",
       "      <td>Rp19.900</td>\n",
       "      <td>https://images.tokopedia.net/img/cache/200-squ...</td>\n",
       "      <td>858</td>\n",
       "      <td>Jakarta Selatan</td>\n",
       "    </tr>\n",
       "    <tr>\n",
       "      <th>1</th>\n",
       "      <td>2112082875</td>\n",
       "      <td>Jamur Kancing Jamur Campignon Kaleng TTS Champ...</td>\n",
       "      <td>Rp16.500</td>\n",
       "      <td>https://images.tokopedia.net/img/cache/200-squ...</td>\n",
       "      <td>198</td>\n",
       "      <td>Jakarta Utara</td>\n",
       "    </tr>\n",
       "    <tr>\n",
       "      <th>2</th>\n",
       "      <td>1638399532</td>\n",
       "      <td>ASLI MURAH 1kg Frozen Strawberry Premium Buah ...</td>\n",
       "      <td>Rp18.130</td>\n",
       "      <td>https://images.tokopedia.net/img/cache/200-squ...</td>\n",
       "      <td>550</td>\n",
       "      <td>Bekasi</td>\n",
       "    </tr>\n",
       "    <tr>\n",
       "      <th>3</th>\n",
       "      <td>1122739342</td>\n",
       "      <td>Sayur Baby Spinach /100 g</td>\n",
       "      <td>Rp24.900</td>\n",
       "      <td>https://images.tokopedia.net/img/cache/200-squ...</td>\n",
       "      <td>1068</td>\n",
       "      <td>Jakarta Selatan</td>\n",
       "    </tr>\n",
       "    <tr>\n",
       "      <th>4</th>\n",
       "      <td>434756249</td>\n",
       "      <td>Wortel Brastagi Value (Sayurbox)</td>\n",
       "      <td>Rp10.000</td>\n",
       "      <td>https://images.tokopedia.net/img/cache/200-squ...</td>\n",
       "      <td>2846</td>\n",
       "      <td>Jakarta Selatan</td>\n",
       "    </tr>\n",
       "    <tr>\n",
       "      <th>...</th>\n",
       "      <td>...</td>\n",
       "      <td>...</td>\n",
       "      <td>...</td>\n",
       "      <td>...</td>\n",
       "      <td>...</td>\n",
       "      <td>...</td>\n",
       "    </tr>\n",
       "    <tr>\n",
       "      <th>5995</th>\n",
       "      <td>2112848356</td>\n",
       "      <td>Sayuran segar kentang kecil/baby potatoes</td>\n",
       "      <td>Rp5.900</td>\n",
       "      <td>https://images.tokopedia.net/img/cache/200-squ...</td>\n",
       "      <td>9</td>\n",
       "      <td>Bekasi</td>\n",
       "    </tr>\n",
       "    <tr>\n",
       "      <th>5996</th>\n",
       "      <td>2292928836</td>\n",
       "      <td>SAWI PUTIH SAYUR [1 Buah] FRESH</td>\n",
       "      <td>Rp9.900</td>\n",
       "      <td>https://images.tokopedia.net/img/cache/200-squ...</td>\n",
       "      <td>218</td>\n",
       "      <td>Jakarta Selatan</td>\n",
       "    </tr>\n",
       "    <tr>\n",
       "      <th>5997</th>\n",
       "      <td>333819812</td>\n",
       "      <td>Alpukat kupas frozen</td>\n",
       "      <td>Rp75.000</td>\n",
       "      <td>https://images.tokopedia.net/img/cache/200-squ...</td>\n",
       "      <td>39</td>\n",
       "      <td>Semarang</td>\n",
       "    </tr>\n",
       "    <tr>\n",
       "      <th>5998</th>\n",
       "      <td>884945921</td>\n",
       "      <td>Kacang Panjang Segar</td>\n",
       "      <td>Rp5.500</td>\n",
       "      <td>https://images.tokopedia.net/img/cache/200-squ...</td>\n",
       "      <td>48</td>\n",
       "      <td>Bandung</td>\n",
       "    </tr>\n",
       "    <tr>\n",
       "      <th>5999</th>\n",
       "      <td>1626163338</td>\n",
       "      <td>Raspberry Frozen by Bali Food Industry</td>\n",
       "      <td>Rp37.000</td>\n",
       "      <td>https://images.tokopedia.net/img/cache/200-squ...</td>\n",
       "      <td>28</td>\n",
       "      <td>Denpasar</td>\n",
       "    </tr>\n",
       "  </tbody>\n",
       "</table>\n",
       "<p>6000 rows × 6 columns</p>\n",
       "</div>"
      ],
      "text/plain": [
       "         good_id                                               name     price  \\\n",
       "0     1688511159       Edamame / Kacang Kedelai Jepang Minaku 500gr  Rp19.900   \n",
       "1     2112082875  Jamur Kancing Jamur Campignon Kaleng TTS Champ...  Rp16.500   \n",
       "2     1638399532  ASLI MURAH 1kg Frozen Strawberry Premium Buah ...  Rp18.130   \n",
       "3     1122739342                          Sayur Baby Spinach /100 g  Rp24.900   \n",
       "4      434756249                   Wortel Brastagi Value (Sayurbox)  Rp10.000   \n",
       "...          ...                                                ...       ...   \n",
       "5995  2112848356          Sayuran segar kentang kecil/baby potatoes   Rp5.900   \n",
       "5996  2292928836                    SAWI PUTIH SAYUR [1 Buah] FRESH   Rp9.900   \n",
       "5997   333819812                               Alpukat kupas frozen  Rp75.000   \n",
       "5998   884945921                               Kacang Panjang Segar   Rp5.500   \n",
       "5999  1626163338             Raspberry Frozen by Bali Food Industry  Rp37.000   \n",
       "\n",
       "                                               imageUrl countReview  \\\n",
       "0     https://images.tokopedia.net/img/cache/200-squ...         858   \n",
       "1     https://images.tokopedia.net/img/cache/200-squ...         198   \n",
       "2     https://images.tokopedia.net/img/cache/200-squ...         550   \n",
       "3     https://images.tokopedia.net/img/cache/200-squ...        1068   \n",
       "4     https://images.tokopedia.net/img/cache/200-squ...        2846   \n",
       "...                                                 ...         ...   \n",
       "5995  https://images.tokopedia.net/img/cache/200-squ...           9   \n",
       "5996  https://images.tokopedia.net/img/cache/200-squ...         218   \n",
       "5997  https://images.tokopedia.net/img/cache/200-squ...          39   \n",
       "5998  https://images.tokopedia.net/img/cache/200-squ...          48   \n",
       "5999  https://images.tokopedia.net/img/cache/200-squ...          28   \n",
       "\n",
       "             location  \n",
       "0     Jakarta Selatan  \n",
       "1       Jakarta Utara  \n",
       "2              Bekasi  \n",
       "3     Jakarta Selatan  \n",
       "4     Jakarta Selatan  \n",
       "...               ...  \n",
       "5995           Bekasi  \n",
       "5996  Jakarta Selatan  \n",
       "5997         Semarang  \n",
       "5998          Bandung  \n",
       "5999         Denpasar  \n",
       "\n",
       "[6000 rows x 6 columns]"
      ]
     },
     "execution_count": 52,
     "metadata": {},
     "output_type": "execute_result"
    }
   ],
   "source": [
    "df_all"
   ]
  },
  {
   "cell_type": "code",
   "execution_count": 53,
   "id": "f88d1726",
   "metadata": {},
   "outputs": [],
   "source": [
    "df_all.to_csv('tokopediagoods.csv')"
   ]
  }
 ],
 "metadata": {
  "kernelspec": {
   "display_name": "tf",
   "language": "python",
   "name": "tf"
  },
  "language_info": {
   "codemirror_mode": {
    "name": "ipython",
    "version": 3
   },
   "file_extension": ".py",
   "mimetype": "text/x-python",
   "name": "python",
   "nbconvert_exporter": "python",
   "pygments_lexer": "ipython3",
   "version": "3.9.13"
  }
 },
 "nbformat": 4,
 "nbformat_minor": 5
}
